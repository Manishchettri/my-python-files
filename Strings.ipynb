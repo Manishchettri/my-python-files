{
 "cells": [
  {
   "cell_type": "markdown",
   "id": "3e3854ba",
   "metadata": {},
   "source": [
    "STRING"
   ]
  },
  {
   "cell_type": "code",
   "execution_count": 1,
   "id": "eac96c45",
   "metadata": {},
   "outputs": [
    {
     "data": {
      "text/plain": [
       "'HELLO'"
      ]
     },
     "execution_count": 1,
     "metadata": {},
     "output_type": "execute_result"
    }
   ],
   "source": [
    "'HELLO'"
   ]
  },
  {
   "cell_type": "code",
   "execution_count": 2,
   "id": "9c63232e",
   "metadata": {},
   "outputs": [
    {
     "data": {
      "text/plain": [
       "'HELLO'"
      ]
     },
     "execution_count": 2,
     "metadata": {},
     "output_type": "execute_result"
    }
   ],
   "source": [
    "\"HELLO\""
   ]
  },
  {
   "cell_type": "code",
   "execution_count": 3,
   "id": "468a7d8f",
   "metadata": {},
   "outputs": [
    {
     "name": "stdout",
     "output_type": "stream",
     "text": [
      "hello\n"
     ]
    }
   ],
   "source": [
    "print('hello')"
   ]
  },
  {
   "cell_type": "code",
   "execution_count": 5,
   "id": "575e8976",
   "metadata": {},
   "outputs": [
    {
     "name": "stdout",
     "output_type": "stream",
     "text": [
      "it is a beautiful day !\n",
      "I want to go out\n"
     ]
    }
   ],
   "source": [
    "print('it is a beautiful day !\\nI want to go out')"
   ]
  },
  {
   "cell_type": "code",
   "execution_count": 6,
   "id": "74459907",
   "metadata": {},
   "outputs": [
    {
     "name": "stdout",
     "output_type": "stream",
     "text": [
      "python uses indentation\those are spaces\n"
     ]
    }
   ],
   "source": [
    "print('python uses indentation\\those are spaces')"
   ]
  },
  {
   "cell_type": "code",
   "execution_count": 7,
   "id": "8378bb23",
   "metadata": {},
   "outputs": [],
   "source": [
    "my_string='tuesday'"
   ]
  },
  {
   "cell_type": "code",
   "execution_count": 8,
   "id": "09c21727",
   "metadata": {},
   "outputs": [
    {
     "data": {
      "text/plain": [
       "7"
      ]
     },
     "execution_count": 8,
     "metadata": {},
     "output_type": "execute_result"
    }
   ],
   "source": [
    "len(my_string)"
   ]
  },
  {
   "cell_type": "code",
   "execution_count": 9,
   "id": "cc82910f",
   "metadata": {},
   "outputs": [
    {
     "data": {
      "text/plain": [
       "6"
      ]
     },
     "execution_count": 9,
     "metadata": {},
     "output_type": "execute_result"
    }
   ],
   "source": [
    "len('Manish')"
   ]
  },
  {
   "cell_type": "code",
   "execution_count": 11,
   "id": "f67cd20e",
   "metadata": {},
   "outputs": [],
   "source": [
    "#Indexing"
   ]
  },
  {
   "cell_type": "code",
   "execution_count": 12,
   "id": "65827304",
   "metadata": {},
   "outputs": [],
   "source": [
    "mystring= 'hello world'"
   ]
  },
  {
   "cell_type": "code",
   "execution_count": 13,
   "id": "120473aa",
   "metadata": {},
   "outputs": [
    {
     "data": {
      "text/plain": [
       "'hello world'"
      ]
     },
     "execution_count": 13,
     "metadata": {},
     "output_type": "execute_result"
    }
   ],
   "source": [
    "mystring"
   ]
  },
  {
   "cell_type": "markdown",
   "id": "57ae69ac",
   "metadata": {},
   "source": [
    " h e l l o\n",
    " 0 1 2 3 4\n",
    "-5-4-3-2-1"
   ]
  },
  {
   "cell_type": "code",
   "execution_count": 14,
   "id": "94dc5d1e",
   "metadata": {},
   "outputs": [
    {
     "data": {
      "text/plain": [
       "'h'"
      ]
     },
     "execution_count": 14,
     "metadata": {},
     "output_type": "execute_result"
    }
   ],
   "source": [
    "mystring[0]"
   ]
  },
  {
   "cell_type": "code",
   "execution_count": 15,
   "id": "6f018d4c",
   "metadata": {},
   "outputs": [
    {
     "data": {
      "text/plain": [
       "'o'"
      ]
     },
     "execution_count": 15,
     "metadata": {},
     "output_type": "execute_result"
    }
   ],
   "source": [
    "mystring[4]"
   ]
  },
  {
   "cell_type": "code",
   "execution_count": 16,
   "id": "58210169",
   "metadata": {},
   "outputs": [
    {
     "data": {
      "text/plain": [
       "'ello world'"
      ]
     },
     "execution_count": 16,
     "metadata": {},
     "output_type": "execute_result"
    }
   ],
   "source": [
    "mystring[1:]"
   ]
  },
  {
   "cell_type": "code",
   "execution_count": 17,
   "id": "577ac78a",
   "metadata": {},
   "outputs": [
    {
     "data": {
      "text/plain": [
       "'llo world'"
      ]
     },
     "execution_count": 17,
     "metadata": {},
     "output_type": "execute_result"
    }
   ],
   "source": [
    "mystring[2:]"
   ]
  },
  {
   "cell_type": "code",
   "execution_count": 18,
   "id": "009eb93b",
   "metadata": {},
   "outputs": [],
   "source": [
    "#start:stop [this index will not be included]:stop]\n",
    "#[start:stop]"
   ]
  },
  {
   "cell_type": "code",
   "execution_count": 19,
   "id": "5747940a",
   "metadata": {},
   "outputs": [
    {
     "data": {
      "text/plain": [
       "'hello'"
      ]
     },
     "execution_count": 19,
     "metadata": {},
     "output_type": "execute_result"
    }
   ],
   "source": [
    "mystring[0:5]"
   ]
  },
  {
   "cell_type": "code",
   "execution_count": 20,
   "id": "10195791",
   "metadata": {},
   "outputs": [
    {
     "data": {
      "text/plain": [
       "'hello wo'"
      ]
     },
     "execution_count": 20,
     "metadata": {},
     "output_type": "execute_result"
    }
   ],
   "source": [
    "mystring[0:8\n",
    "    ]"
   ]
  },
  {
   "cell_type": "code",
   "execution_count": 21,
   "id": "14998f0e",
   "metadata": {},
   "outputs": [],
   "source": [
    "myname='Manish Chettri'"
   ]
  },
  {
   "cell_type": "code",
   "execution_count": 22,
   "id": "0ee53dc9",
   "metadata": {},
   "outputs": [
    {
     "data": {
      "text/plain": [
       "'Manish Chettri'"
      ]
     },
     "execution_count": 22,
     "metadata": {},
     "output_type": "execute_result"
    }
   ],
   "source": [
    "myname"
   ]
  },
  {
   "cell_type": "code",
   "execution_count": 23,
   "id": "9a19affc",
   "metadata": {},
   "outputs": [
    {
     "data": {
      "text/plain": [
       "'Manish'"
      ]
     },
     "execution_count": 23,
     "metadata": {},
     "output_type": "execute_result"
    }
   ],
   "source": [
    "myname[0:6]"
   ]
  },
  {
   "cell_type": "code",
   "execution_count": 24,
   "id": "38f034b2",
   "metadata": {},
   "outputs": [
    {
     "data": {
      "text/plain": [
       "'Manish Chettri'"
      ]
     },
     "execution_count": 24,
     "metadata": {},
     "output_type": "execute_result"
    }
   ],
   "source": [
    "myname[0:]"
   ]
  },
  {
   "cell_type": "code",
   "execution_count": 25,
   "id": "63e46fbf",
   "metadata": {},
   "outputs": [
    {
     "data": {
      "text/plain": [
       "'Manish Chettri'"
      ]
     },
     "execution_count": 25,
     "metadata": {},
     "output_type": "execute_result"
    }
   ],
   "source": [
    "myname[:]"
   ]
  },
  {
   "cell_type": "code",
   "execution_count": 26,
   "id": "9c92af6f",
   "metadata": {},
   "outputs": [
    {
     "data": {
      "text/plain": [
       "'n'"
      ]
     },
     "execution_count": 26,
     "metadata": {},
     "output_type": "execute_result"
    }
   ],
   "source": [
    "myname[2:4:6]"
   ]
  },
  {
   "cell_type": "code",
   "execution_count": 27,
   "id": "813d11e7",
   "metadata": {},
   "outputs": [
    {
     "data": {
      "text/plain": [
       "'Manish Chettr'"
      ]
     },
     "execution_count": 27,
     "metadata": {},
     "output_type": "execute_result"
    }
   ],
   "source": [
    "myname[:-1]"
   ]
  },
  {
   "cell_type": "code",
   "execution_count": 28,
   "id": "1e4f84d6",
   "metadata": {},
   "outputs": [
    {
     "data": {
      "text/plain": [
       "'irttehC hsinaM'"
      ]
     },
     "execution_count": 28,
     "metadata": {},
     "output_type": "execute_result"
    }
   ],
   "source": [
    "myname[::-1]"
   ]
  },
  {
   "cell_type": "code",
   "execution_count": 30,
   "id": "b9018dcf",
   "metadata": {},
   "outputs": [
    {
     "data": {
      "text/plain": [
       "''"
      ]
     },
     "execution_count": 30,
     "metadata": {},
     "output_type": "execute_result"
    }
   ],
   "source": [
    "myname[-5:-7:3]"
   ]
  },
  {
   "cell_type": "code",
   "execution_count": 31,
   "id": "c587dbea",
   "metadata": {},
   "outputs": [
    {
     "data": {
      "text/plain": [
       "'Manish Chettri'"
      ]
     },
     "execution_count": 31,
     "metadata": {},
     "output_type": "execute_result"
    }
   ],
   "source": [
    "myname"
   ]
  },
  {
   "cell_type": "code",
   "execution_count": 32,
   "id": "266aaed2",
   "metadata": {},
   "outputs": [
    {
     "data": {
      "text/plain": [
       "''"
      ]
     },
     "execution_count": 32,
     "metadata": {},
     "output_type": "execute_result"
    }
   ],
   "source": [
    "myname[-5:-7]"
   ]
  },
  {
   "cell_type": "code",
   "execution_count": 33,
   "id": "38c06631",
   "metadata": {},
   "outputs": [
    {
     "data": {
      "text/plain": [
       "'e'"
      ]
     },
     "execution_count": 33,
     "metadata": {},
     "output_type": "execute_result"
    }
   ],
   "source": [
    "myname[-5:7:-4]"
   ]
  },
  {
   "cell_type": "code",
   "execution_count": 34,
   "id": "edc6b96b",
   "metadata": {},
   "outputs": [
    {
     "data": {
      "text/plain": [
       "'Manish Chettri'"
      ]
     },
     "execution_count": 34,
     "metadata": {},
     "output_type": "execute_result"
    }
   ],
   "source": [
    "myname[::]"
   ]
  },
  {
   "cell_type": "code",
   "execution_count": 35,
   "id": "68d4bb72",
   "metadata": {},
   "outputs": [
    {
     "data": {
      "text/plain": [
       "str"
      ]
     },
     "execution_count": 35,
     "metadata": {},
     "output_type": "execute_result"
    }
   ],
   "source": [
    "type(myname)"
   ]
  }
 ],
 "metadata": {
  "kernelspec": {
   "display_name": "Python 3 (ipykernel)",
   "language": "python",
   "name": "python3"
  },
  "language_info": {
   "codemirror_mode": {
    "name": "ipython",
    "version": 3
   },
   "file_extension": ".py",
   "mimetype": "text/x-python",
   "name": "python",
   "nbconvert_exporter": "python",
   "pygments_lexer": "ipython3",
   "version": "3.10.9"
  }
 },
 "nbformat": 4,
 "nbformat_minor": 5
}
