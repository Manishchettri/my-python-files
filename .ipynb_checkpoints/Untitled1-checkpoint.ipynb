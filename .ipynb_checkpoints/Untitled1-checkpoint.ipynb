{
 "cells": [
  {
   "cell_type": "code",
   "execution_count": 1,
   "id": "557ddb3a",
   "metadata": {},
   "outputs": [],
   "source": [
    "word=\"python\""
   ]
  },
  {
   "cell_type": "code",
   "execution_count": 2,
   "id": "bf5759be",
   "metadata": {},
   "outputs": [
    {
     "data": {
      "text/plain": [
       "'python'"
      ]
     },
     "execution_count": 2,
     "metadata": {},
     "output_type": "execute_result"
    }
   ],
   "source": [
    "word"
   ]
  },
  {
   "cell_type": "code",
   "execution_count": 3,
   "id": "fc4406eb",
   "metadata": {},
   "outputs": [],
   "source": [
    "last_latter=word"
   ]
  },
  {
   "cell_type": "code",
   "execution_count": 4,
   "id": "ad72a5c9",
   "metadata": {},
   "outputs": [
    {
     "data": {
      "text/plain": [
       "'python'"
      ]
     },
     "execution_count": 4,
     "metadata": {},
     "output_type": "execute_result"
    }
   ],
   "source": [
    "last_latter"
   ]
  },
  {
   "cell_type": "code",
   "execution_count": 5,
   "id": "23db2c31",
   "metadata": {},
   "outputs": [
    {
     "data": {
      "text/plain": [
       "'ython'"
      ]
     },
     "execution_count": 5,
     "metadata": {},
     "output_type": "execute_result"
    }
   ],
   "source": [
    "last_latter[1:]"
   ]
  },
  {
   "cell_type": "code",
   "execution_count": 7,
   "id": "e45af82d",
   "metadata": {},
   "outputs": [
    {
     "data": {
      "text/plain": [
       "'cpython'"
      ]
     },
     "execution_count": 7,
     "metadata": {},
     "output_type": "execute_result"
    }
   ],
   "source": [
    "'c'+last_latter"
   ]
  },
  {
   "cell_type": "code",
   "execution_count": 17,
   "id": "d9392e08",
   "metadata": {},
   "outputs": [],
   "source": [
    "x='the brown fox'"
   ]
  },
  {
   "cell_type": "code",
   "execution_count": 19,
   "id": "9445f2ad",
   "metadata": {},
   "outputs": [
    {
     "data": {
      "text/plain": [
       "'THE BROWN FOX'"
      ]
     },
     "execution_count": 19,
     "metadata": {},
     "output_type": "execute_result"
    }
   ],
   "source": [
    "x.upper()"
   ]
  },
  {
   "cell_type": "code",
   "execution_count": 1,
   "id": "d82a4afe",
   "metadata": {},
   "outputs": [
    {
     "name": "stdout",
     "output_type": "stream",
     "text": [
      "john is 25 year old\n"
     ]
    }
   ],
   "source": [
    "name=\"john\"\n",
    "age=\"25\"\n",
    "print(f'{name} is {age} year old')"
   ]
  },
  {
   "cell_type": "code",
   "execution_count": 3,
   "id": "11d1aeaa",
   "metadata": {},
   "outputs": [],
   "source": [
    "s=\"i love python programming\""
   ]
  },
  {
   "cell_type": "code",
   "execution_count": null,
   "id": "7e041d1b",
   "metadata": {},
   "outputs": [],
   "source": [
    "|"
   ]
  }
 ],
 "metadata": {
  "kernelspec": {
   "display_name": "Python 3 (ipykernel)",
   "language": "python",
   "name": "python3"
  },
  "language_info": {
   "codemirror_mode": {
    "name": "ipython",
    "version": 3
   },
   "file_extension": ".py",
   "mimetype": "text/x-python",
   "name": "python",
   "nbconvert_exporter": "python",
   "pygments_lexer": "ipython3",
   "version": "3.10.9"
  }
 },
 "nbformat": 4,
 "nbformat_minor": 5
}
