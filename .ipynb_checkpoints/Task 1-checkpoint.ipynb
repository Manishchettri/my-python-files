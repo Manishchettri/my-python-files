{
 "cells": [
  {
   "cell_type": "markdown",
   "id": "082f085e",
   "metadata": {},
   "source": [
    "Q.1"
   ]
  },
  {
   "cell_type": "code",
   "execution_count": 20,
   "id": "224cb0c5",
   "metadata": {},
   "outputs": [
    {
     "name": "stdout",
     "output_type": "stream",
     "text": [
      "300\n",
      "-100\n",
      "100\n",
      "20000\n"
     ]
    }
   ],
   "source": [
    "intiger_var=a=100\n",
    "intiger_var=b=200\n",
    "addition=a+b\n",
    "sub=a-b\n",
    "mul=a*b\n",
    "div=a%b\n",
    "floor=a//b\n",
    "print(addition)\n",
    "print(sub)\n",
    "print(div)\n",
    "print(mul)\n"
   ]
  },
  {
   "cell_type": "code",
   "execution_count": 21,
   "id": "e3e8e86a",
   "metadata": {},
   "outputs": [
    {
     "name": "stdout",
     "output_type": "stream",
     "text": [
      "41.33\n",
      "20.87\n",
      "0.41000000000000014\n",
      "318.153\n",
      "3.0\n"
     ]
    }
   ],
   "source": [
    "a=31.1\n",
    "b=10.23\n",
    "addition=a+b\n",
    "sub=a-b\n",
    "mul=a*b\n",
    "div=a%b\n",
    "floor=a//b\n",
    "print(addition)\n",
    "print(sub)\n",
    "print(div)\n",
    "print(mul)\n",
    "print(floor)\n"
   ]
  },
  {
   "cell_type": "markdown",
   "id": "8ef76085",
   "metadata": {},
   "source": [
    "Q.2"
   ]
  },
  {
   "cell_type": "code",
   "execution_count": 5,
   "id": "1f2f81b0",
   "metadata": {},
   "outputs": [],
   "source": [
    "my_string=('manish chettri')"
   ]
  },
  {
   "cell_type": "code",
   "execution_count": 23,
   "id": "514ac780",
   "metadata": {},
   "outputs": [
    {
     "name": "stdout",
     "output_type": "stream",
     "text": [
      "14\n"
     ]
    }
   ],
   "source": [
    "my_string\n",
    "print(len(my_string))"
   ]
  },
  {
   "cell_type": "markdown",
   "id": "b7a755bb",
   "metadata": {},
   "source": [
    "Q.3"
   ]
  },
  {
   "cell_type": "code",
   "execution_count": 19,
   "id": "f5a0181c",
   "metadata": {},
   "outputs": [
    {
     "name": "stdout",
     "output_type": "stream",
     "text": [
      "200\n"
     ]
    }
   ],
   "source": [
    "width=10\n",
    "hight=20\n",
    "calculate=width*hight\n",
    "print(calculate)"
   ]
  },
  {
   "cell_type": "code",
   "execution_count": null,
   "id": "f7a94227",
   "metadata": {},
   "outputs": [],
   "source": []
  }
 ],
 "metadata": {
  "kernelspec": {
   "display_name": "Python 3 (ipykernel)",
   "language": "python",
   "name": "python3"
  },
  "language_info": {
   "codemirror_mode": {
    "name": "ipython",
    "version": 3
   },
   "file_extension": ".py",
   "mimetype": "text/x-python",
   "name": "python",
   "nbconvert_exporter": "python",
   "pygments_lexer": "ipython3",
   "version": "3.10.9"
  }
 },
 "nbformat": 4,
 "nbformat_minor": 5
}
