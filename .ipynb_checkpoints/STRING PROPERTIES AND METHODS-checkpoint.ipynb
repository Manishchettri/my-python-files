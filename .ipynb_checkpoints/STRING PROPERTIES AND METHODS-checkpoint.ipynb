{
 "cells": [
  {
   "cell_type": "code",
   "execution_count": 1,
   "id": "7bf73e1d",
   "metadata": {},
   "outputs": [],
   "source": [
    "name ='antony'"
   ]
  },
  {
   "cell_type": "code",
   "execution_count": 2,
   "id": "8c432068",
   "metadata": {},
   "outputs": [
    {
     "data": {
      "text/plain": [
       "'antony'"
      ]
     },
     "execution_count": 2,
     "metadata": {},
     "output_type": "execute_result"
    }
   ],
   "source": [
    "name"
   ]
  },
  {
   "cell_type": "code",
   "execution_count": 3,
   "id": "1fb42a78",
   "metadata": {},
   "outputs": [
    {
     "ename": "TypeError",
     "evalue": "'str' object does not support item assignment",
     "output_type": "error",
     "traceback": [
      "\u001b[1;31m---------------------------------------------------------------------------\u001b[0m",
      "\u001b[1;31mTypeError\u001b[0m                                 Traceback (most recent call last)",
      "Cell \u001b[1;32mIn[3], line 1\u001b[0m\n\u001b[1;32m----> 1\u001b[0m name[\u001b[38;5;241m0\u001b[39m]\u001b[38;5;241m=\u001b[39m\u001b[38;5;124m'\u001b[39m\u001b[38;5;124mp\u001b[39m\u001b[38;5;124m'\u001b[39m\n",
      "\u001b[1;31mTypeError\u001b[0m: 'str' object does not support item assignment"
     ]
    }
   ],
   "source": [
    "name[0]='p'"
   ]
  },
  {
   "cell_type": "code",
   "execution_count": 4,
   "id": "68c3e24d",
   "metadata": {},
   "outputs": [
    {
     "data": {
      "text/plain": [
       "'ntony'"
      ]
     },
     "execution_count": 4,
     "metadata": {},
     "output_type": "execute_result"
    }
   ],
   "source": [
    "name[1:]"
   ]
  },
  {
   "cell_type": "code",
   "execution_count": 5,
   "id": "cb826cba",
   "metadata": {},
   "outputs": [],
   "source": [
    "#string concatenation "
   ]
  },
  {
   "cell_type": "code",
   "execution_count": 7,
   "id": "a9fdd869",
   "metadata": {},
   "outputs": [],
   "source": [
    "last_letters=name[1:]"
   ]
  },
  {
   "cell_type": "code",
   "execution_count": 8,
   "id": "4380609f",
   "metadata": {},
   "outputs": [
    {
     "data": {
      "text/plain": [
       "'ntony'"
      ]
     },
     "execution_count": 8,
     "metadata": {},
     "output_type": "execute_result"
    }
   ],
   "source": [
    "last_letters"
   ]
  },
  {
   "cell_type": "code",
   "execution_count": 11,
   "id": "c0497ae4",
   "metadata": {},
   "outputs": [
    {
     "data": {
      "text/plain": [
       "'Pntony'"
      ]
     },
     "execution_count": 11,
     "metadata": {},
     "output_type": "execute_result"
    }
   ],
   "source": [
    "'P'+last_letters"
   ]
  },
  {
   "cell_type": "code",
   "execution_count": 12,
   "id": "79bcd1d1",
   "metadata": {},
   "outputs": [],
   "source": [
    "x='hello'"
   ]
  },
  {
   "cell_type": "code",
   "execution_count": 13,
   "id": "ccbd7418",
   "metadata": {},
   "outputs": [
    {
     "data": {
      "text/plain": [
       "'hello'"
      ]
     },
     "execution_count": 13,
     "metadata": {},
     "output_type": "execute_result"
    }
   ],
   "source": [
    "x"
   ]
  },
  {
   "cell_type": "code",
   "execution_count": 14,
   "id": "aa3fdbf5",
   "metadata": {},
   "outputs": [
    {
     "data": {
      "text/plain": [
       "'hello Manish'"
      ]
     },
     "execution_count": 14,
     "metadata": {},
     "output_type": "execute_result"
    }
   ],
   "source": [
    "x+(' Manish')"
   ]
  },
  {
   "cell_type": "code",
   "execution_count": 15,
   "id": "e2566421",
   "metadata": {},
   "outputs": [],
   "source": [
    "# String multiplication"
   ]
  },
  {
   "cell_type": "code",
   "execution_count": 16,
   "id": "26a1a5a5",
   "metadata": {},
   "outputs": [],
   "source": [
    "letter='z'"
   ]
  },
  {
   "cell_type": "code",
   "execution_count": 17,
   "id": "c824b3c1",
   "metadata": {},
   "outputs": [
    {
     "data": {
      "text/plain": [
       "'z'"
      ]
     },
     "execution_count": 17,
     "metadata": {},
     "output_type": "execute_result"
    }
   ],
   "source": [
    "letter"
   ]
  },
  {
   "cell_type": "code",
   "execution_count": 18,
   "id": "84b17c03",
   "metadata": {},
   "outputs": [
    {
     "data": {
      "text/plain": [
       "'zzzzzzzzzzzz'"
      ]
     },
     "execution_count": 18,
     "metadata": {},
     "output_type": "execute_result"
    }
   ],
   "source": [
    "letter*12"
   ]
  },
  {
   "cell_type": "code",
   "execution_count": 19,
   "id": "12c1b469",
   "metadata": {},
   "outputs": [
    {
     "data": {
      "text/plain": [
       "'1234567890'"
      ]
     },
     "execution_count": 19,
     "metadata": {},
     "output_type": "execute_result"
    }
   ],
   "source": [
    "'12345'+'67890'"
   ]
  },
  {
   "cell_type": "code",
   "execution_count": 21,
   "id": "1d24c9d6",
   "metadata": {},
   "outputs": [],
   "source": [
    "x='hello world'"
   ]
  },
  {
   "cell_type": "code",
   "execution_count": 22,
   "id": "836d2512",
   "metadata": {},
   "outputs": [
    {
     "data": {
      "text/plain": [
       "'hello world'"
      ]
     },
     "execution_count": 22,
     "metadata": {},
     "output_type": "execute_result"
    }
   ],
   "source": [
    "x"
   ]
  },
  {
   "cell_type": "code",
   "execution_count": 23,
   "id": "61d48c0a",
   "metadata": {},
   "outputs": [],
   "source": [
    "# object in python "
   ]
  },
  {
   "cell_type": "code",
   "execution_count": 25,
   "id": "f9d8386b",
   "metadata": {},
   "outputs": [
    {
     "data": {
      "text/plain": [
       "'HELLO WORLD'"
      ]
     },
     "execution_count": 25,
     "metadata": {},
     "output_type": "execute_result"
    }
   ],
   "source": [
    "x.upper()"
   ]
  },
  {
   "cell_type": "code",
   "execution_count": 26,
   "id": "f2257878",
   "metadata": {},
   "outputs": [
    {
     "data": {
      "text/plain": [
       "'hello world'"
      ]
     },
     "execution_count": 26,
     "metadata": {},
     "output_type": "execute_result"
    }
   ],
   "source": [
    "x.lower()"
   ]
  },
  {
   "cell_type": "code",
   "execution_count": 27,
   "id": "ae3bd857",
   "metadata": {},
   "outputs": [
    {
     "data": {
      "text/plain": [
       "['hello', 'world']"
      ]
     },
     "execution_count": 27,
     "metadata": {},
     "output_type": "execute_result"
    }
   ],
   "source": [
    "x.split()"
   ]
  },
  {
   "cell_type": "code",
   "execution_count": 28,
   "id": "f5f2a911",
   "metadata": {},
   "outputs": [
    {
     "data": {
      "text/plain": [
       "['he', '', 'o wor', 'd']"
      ]
     },
     "execution_count": 28,
     "metadata": {},
     "output_type": "execute_result"
    }
   ],
   "source": [
    "x.split('l')"
   ]
  },
  {
   "cell_type": "code",
   "execution_count": 29,
   "id": "3e7d1268",
   "metadata": {},
   "outputs": [],
   "source": [
    "my_name=\"Manish Chettri\""
   ]
  },
  {
   "cell_type": "code",
   "execution_count": 30,
   "id": "0695f200",
   "metadata": {},
   "outputs": [
    {
     "data": {
      "text/plain": [
       "'Manish Chettri'"
      ]
     },
     "execution_count": 30,
     "metadata": {},
     "output_type": "execute_result"
    }
   ],
   "source": [
    "my_name"
   ]
  },
  {
   "cell_type": "code",
   "execution_count": 34,
   "id": "e52bccfa",
   "metadata": {},
   "outputs": [
    {
     "name": "stdout",
     "output_type": "stream",
     "text": [
      "hello my name is Manish Chettri\n"
     ]
    }
   ],
   "source": [
    "print(\"hello my name is \"+ my_name)"
   ]
  },
  {
   "cell_type": "code",
   "execution_count": 35,
   "id": "4ebb3d33",
   "metadata": {},
   "outputs": [],
   "source": [
    "#.format Method"
   ]
  },
  {
   "cell_type": "code",
   "execution_count": 36,
   "id": "454e6af4",
   "metadata": {},
   "outputs": [],
   "source": [
    "#'string here {} {} {}' .format(something1, something2, something3)"
   ]
  },
  {
   "cell_type": "code",
   "execution_count": 37,
   "id": "e3c1c15b",
   "metadata": {},
   "outputs": [
    {
     "name": "stdout",
     "output_type": "stream",
     "text": [
      "i am a student of Medhavi skills university\n"
     ]
    }
   ],
   "source": [
    "print('i am a student of {}'.format('Medhavi skills university'))"
   ]
  },
  {
   "cell_type": "code",
   "execution_count": 40,
   "id": "8f954025",
   "metadata": {},
   "outputs": [
    {
     "name": "stdout",
     "output_type": "stream",
     "text": [
      "the quick brown fox\n"
     ]
    }
   ],
   "source": [
    "print('the {q} {b} {f}'.format(b='brown', f='fox', q='quick'))"
   ]
  }
 ],
 "metadata": {
  "kernelspec": {
   "display_name": "Python 3 (ipykernel)",
   "language": "python",
   "name": "python3"
  },
  "language_info": {
   "codemirror_mode": {
    "name": "ipython",
    "version": 3
   },
   "file_extension": ".py",
   "mimetype": "text/x-python",
   "name": "python",
   "nbconvert_exporter": "python",
   "pygments_lexer": "ipython3",
   "version": "3.10.9"
  }
 },
 "nbformat": 4,
 "nbformat_minor": 5
}
