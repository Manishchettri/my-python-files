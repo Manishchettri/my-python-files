{
 "cells": [
  {
   "cell_type": "markdown",
   "id": "9818bffa",
   "metadata": {},
   "source": [
    "Q1"
   ]
  },
  {
   "cell_type": "code",
   "execution_count": 2,
   "id": "e9660105",
   "metadata": {},
   "outputs": [
    {
     "name": "stdout",
     "output_type": "stream",
     "text": [
      "41.1\n",
      "311.0\n",
      "0.3215434083601286\n"
     ]
    }
   ],
   "source": [
    "a=10\n",
    "b=31.1\n",
    "c='31'\n",
    "print(a+b)\n",
    "print(a*b)\n",
    "print(a/b)"
   ]
  },
  {
   "cell_type": "markdown",
   "id": "a0f0a9a1",
   "metadata": {},
   "source": [
    "Q2"
   ]
  },
  {
   "cell_type": "code",
   "execution_count": 3,
   "id": "ae9074f1",
   "metadata": {},
   "outputs": [],
   "source": [
    "s='programming is fun'"
   ]
  },
  {
   "cell_type": "code",
   "execution_count": 4,
   "id": "8e64a5c9",
   "metadata": {},
   "outputs": [
    {
     "data": {
      "text/plain": [
       "'is'"
      ]
     },
     "execution_count": 4,
     "metadata": {},
     "output_type": "execute_result"
    }
   ],
   "source": [
    "s[12:14]"
   ]
  },
  {
   "cell_type": "markdown",
   "id": "6c5a2861",
   "metadata": {},
   "source": [
    "Q3"
   ]
  },
  {
   "cell_type": "code",
   "execution_count": 7,
   "id": "d8d6d9e1",
   "metadata": {},
   "outputs": [
    {
     "name": "stdout",
     "output_type": "stream",
     "text": [
      "enter the length12\n",
      "enter the width212\n",
      "the are of recangle 2544.0\n"
     ]
    }
   ],
   "source": [
    "length=float(input('enter the length'))\n",
    "width=float(input('enter the width'))\n",
    "area=length*width\n",
    "print('the are of recangle',area)"
   ]
  },
  {
   "cell_type": "markdown",
   "id": "ac2fbe73",
   "metadata": {},
   "source": [
    "Q4"
   ]
  },
  {
   "cell_type": "code",
   "execution_count": 10,
   "id": "bbc79b96",
   "metadata": {},
   "outputs": [
    {
     "name": "stdout",
     "output_type": "stream",
     "text": [
      "32\n"
     ]
    }
   ],
   "source": [
    "x=1\n",
    "y=31\n",
    "print(x+y)"
   ]
  },
  {
   "cell_type": "markdown",
   "id": "f32c60fc",
   "metadata": {},
   "source": [
    "Q5"
   ]
  },
  {
   "cell_type": "code",
   "execution_count": null,
   "id": "7e664eb1",
   "metadata": {},
   "outputs": [],
   "source": [
    "word=\"python\""
   ]
  },
  {
   "cell_type": "code",
   "execution_count": null,
   "id": "dfffb38d",
   "metadata": {},
   "outputs": [],
   "source": [
    "word"
   ]
  },
  {
   "cell_type": "code",
   "execution_count": null,
   "id": "57b34fde",
   "metadata": {},
   "outputs": [],
   "source": []
  },
  {
   "cell_type": "code",
   "execution_count": null,
   "id": "66a42051",
   "metadata": {},
   "outputs": [],
   "source": []
  }
 ],
 "metadata": {
  "kernelspec": {
   "display_name": "Python 3 (ipykernel)",
   "language": "python",
   "name": "python3"
  },
  "language_info": {
   "codemirror_mode": {
    "name": "ipython",
    "version": 3
   },
   "file_extension": ".py",
   "mimetype": "text/x-python",
   "name": "python",
   "nbconvert_exporter": "python",
   "pygments_lexer": "ipython3",
   "version": "3.10.9"
  }
 },
 "nbformat": 4,
 "nbformat_minor": 5
}
