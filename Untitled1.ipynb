{
 "cells": [
  {
   "cell_type": "code",
   "execution_count": 1,
   "id": "557ddb3a",
   "metadata": {},
   "outputs": [],
   "source": [
    "word=\"python\""
   ]
  },
  {
   "cell_type": "code",
   "execution_count": 2,
   "id": "bf5759be",
   "metadata": {},
   "outputs": [
    {
     "data": {
      "text/plain": [
       "'python'"
      ]
     },
     "execution_count": 2,
     "metadata": {},
     "output_type": "execute_result"
    }
   ],
   "source": [
    "word"
   ]
  },
  {
   "cell_type": "code",
   "execution_count": 3,
   "id": "fc4406eb",
   "metadata": {},
   "outputs": [],
   "source": [
    "last_latter=word"
   ]
  },
  {
   "cell_type": "code",
   "execution_count": 4,
   "id": "ad72a5c9",
   "metadata": {},
   "outputs": [
    {
     "data": {
      "text/plain": [
       "'python'"
      ]
     },
     "execution_count": 4,
     "metadata": {},
     "output_type": "execute_result"
    }
   ],
   "source": [
    "last_latter"
   ]
  },
  {
   "cell_type": "code",
   "execution_count": 7,
   "id": "23db2c31",
   "metadata": {},
   "outputs": [
    {
     "ename": "SyntaxError",
     "evalue": "invalid syntax (3834835833.py, line 1)",
     "output_type": "error",
     "traceback": [
      "\u001b[1;36m  Cell \u001b[1;32mIn[7], line 1\u001b[1;36m\u001b[0m\n\u001b[1;33m    last_latter=[1:]\u001b[0m\n\u001b[1;37m                  ^\u001b[0m\n\u001b[1;31mSyntaxError\u001b[0m\u001b[1;31m:\u001b[0m invalid syntax\n"
     ]
    }
   ],
   "source": [
    "last_latter=[1:]"
   ]
  },
  {
   "cell_type": "code",
   "execution_count": 7,
   "id": "e45af82d",
   "metadata": {},
   "outputs": [
    {
     "data": {
      "text/plain": [
       "'cpython'"
      ]
     },
     "execution_count": 7,
     "metadata": {},
     "output_type": "execute_result"
    }
   ],
   "source": [
    "'c'+last_latter"
   ]
  },
  {
   "cell_type": "code",
   "execution_count": 17,
   "id": "d9392e08",
   "metadata": {},
   "outputs": [],
   "source": [
    "x='the brown fox'"
   ]
  },
  {
   "cell_type": "code",
   "execution_count": 19,
   "id": "9445f2ad",
   "metadata": {},
   "outputs": [
    {
     "data": {
      "text/plain": [
       "'THE BROWN FOX'"
      ]
     },
     "execution_count": 19,
     "metadata": {},
     "output_type": "execute_result"
    }
   ],
   "source": [
    "x.upper()"
   ]
  },
  {
   "cell_type": "code",
   "execution_count": 1,
   "id": "d82a4afe",
   "metadata": {},
   "outputs": [
    {
     "name": "stdout",
     "output_type": "stream",
     "text": [
      "john is 25 year old\n"
     ]
    }
   ],
   "source": [
    "name=\"john\"\n",
    "age=\"25\"\n",
    "print(f'{name} is {age} year old')"
   ]
  },
  {
   "cell_type": "code",
   "execution_count": 3,
   "id": "11d1aeaa",
   "metadata": {},
   "outputs": [],
   "source": [
    "s=\"i love python programming\""
   ]
  },
  {
   "cell_type": "code",
   "execution_count": 5,
   "id": "9ef40269",
   "metadata": {},
   "outputs": [
    {
     "data": {
      "text/plain": [
       "'programming'"
      ]
     },
     "execution_count": 5,
     "metadata": {},
     "output_type": "execute_result"
    }
   ],
   "source": [
    "s[14:]"
   ]
  },
  {
   "cell_type": "code",
   "execution_count": 16,
   "id": "87710838",
   "metadata": {},
   "outputs": [],
   "source": [
    "pi='3.1415926535'"
   ]
  },
  {
   "cell_type": "code",
   "execution_count": 17,
   "id": "154ad162",
   "metadata": {},
   "outputs": [
    {
     "ename": "ValueError",
     "evalue": "Unknown format code 'f' for object of type 'str'",
     "output_type": "error",
     "traceback": [
      "\u001b[1;31m---------------------------------------------------------------------------\u001b[0m",
      "\u001b[1;31mValueError\u001b[0m                                Traceback (most recent call last)",
      "Cell \u001b[1;32mIn[17], line 1\u001b[0m\n\u001b[1;32m----> 1\u001b[0m \u001b[38;5;28mprint\u001b[39m(\u001b[38;5;124;43m'\u001b[39;49m\u001b[38;5;124;43mthe pi is \u001b[39;49m\u001b[38;5;132;43;01m{p:1.4f}\u001b[39;49;00m\u001b[38;5;124;43m'\u001b[39;49m\u001b[38;5;241;43m.\u001b[39;49m\u001b[43mformat\u001b[49m\u001b[43m(\u001b[49m\u001b[43mp\u001b[49m\u001b[38;5;241;43m=\u001b[39;49m\u001b[43mpi\u001b[49m\u001b[43m)\u001b[49m)\n",
      "\u001b[1;31mValueError\u001b[0m: Unknown format code 'f' for object of type 'str'"
     ]
    }
   ],
   "source": [
    "print('the pi is {p:1.4f}'.format(p=pi))"
   ]
  },
  {
   "cell_type": "code",
   "execution_count": null,
   "id": "a352afea",
   "metadata": {},
   "outputs": [],
   "source": []
  }
 ],
 "metadata": {
  "kernelspec": {
   "display_name": "Python 3 (ipykernel)",
   "language": "python",
   "name": "python3"
  },
  "language_info": {
   "codemirror_mode": {
    "name": "ipython",
    "version": 3
   },
   "file_extension": ".py",
   "mimetype": "text/x-python",
   "name": "python",
   "nbconvert_exporter": "python",
   "pygments_lexer": "ipython3",
   "version": "3.10.9"
  }
 },
 "nbformat": 4,
 "nbformat_minor": 5
}
