{
 "cells": [
  {
   "cell_type": "code",
   "execution_count": 1,
   "id": "81aa9c14",
   "metadata": {},
   "outputs": [
    {
     "data": {
      "text/plain": [
       "32"
      ]
     },
     "execution_count": 1,
     "metadata": {},
     "output_type": "execute_result"
    }
   ],
   "source": [
    "1+31"
   ]
  },
  {
   "cell_type": "markdown",
   "id": "ac9f8cfa",
   "metadata": {},
   "source": [
    "floor devision '//'"
   ]
  },
  {
   "cell_type": "code",
   "execution_count": 2,
   "id": "39c51ec1",
   "metadata": {},
   "outputs": [
    {
     "data": {
      "text/plain": [
       "8"
      ]
     },
     "execution_count": 2,
     "metadata": {},
     "output_type": "execute_result"
    }
   ],
   "source": [
    "34//4"
   ]
  },
  {
   "cell_type": "code",
   "execution_count": 3,
   "id": "0555a3b0",
   "metadata": {},
   "outputs": [
    {
     "data": {
      "text/plain": [
       "7"
      ]
     },
     "execution_count": 3,
     "metadata": {},
     "output_type": "execute_result"
    }
   ],
   "source": [
    "45//6"
   ]
  },
  {
   "cell_type": "markdown",
   "id": "63caaf57",
   "metadata": {},
   "source": [
    " Modulo or mod '%'"
   ]
  },
  {
   "cell_type": "code",
   "execution_count": 4,
   "id": "33c5d26b",
   "metadata": {},
   "outputs": [
    {
     "data": {
      "text/plain": [
       "1"
      ]
     },
     "execution_count": 4,
     "metadata": {},
     "output_type": "execute_result"
    }
   ],
   "source": [
    "4%3"
   ]
  },
  {
   "cell_type": "code",
   "execution_count": 5,
   "id": "50f06f50",
   "metadata": {},
   "outputs": [
    {
     "data": {
      "text/plain": [
       "1"
      ]
     },
     "execution_count": 5,
     "metadata": {},
     "output_type": "execute_result"
    }
   ],
   "source": [
    "31%5"
   ]
  },
  {
   "cell_type": "markdown",
   "id": "09d4d897",
   "metadata": {},
   "source": [
    "Square and cubes '**'"
   ]
  },
  {
   "cell_type": "code",
   "execution_count": 6,
   "id": "c595fa2c",
   "metadata": {},
   "outputs": [
    {
     "data": {
      "text/plain": [
       "4"
      ]
     },
     "execution_count": 6,
     "metadata": {},
     "output_type": "execute_result"
    }
   ],
   "source": [
    "2**2"
   ]
  },
  {
   "cell_type": "code",
   "execution_count": 7,
   "id": "996042a3",
   "metadata": {},
   "outputs": [
    {
     "data": {
      "text/plain": [
       "625"
      ]
     },
     "execution_count": 7,
     "metadata": {},
     "output_type": "execute_result"
    }
   ],
   "source": [
    "5**4"
   ]
  },
  {
   "cell_type": "markdown",
   "id": "6f0bd01a",
   "metadata": {},
   "source": [
    "Power of  operation "
   ]
  },
  {
   "cell_type": "code",
   "execution_count": 10,
   "id": "12f83e85",
   "metadata": {},
   "outputs": [
    {
     "data": {
      "text/plain": [
       "704"
      ]
     },
     "execution_count": 10,
     "metadata": {},
     "output_type": "execute_result"
    }
   ],
   "source": [
    "(2+20)*(1+31)"
   ]
  },
  {
   "cell_type": "code",
   "execution_count": 9,
   "id": "4a021a5f",
   "metadata": {},
   "outputs": [
    {
     "data": {
      "text/plain": [
       "-510"
      ]
     },
     "execution_count": 9,
     "metadata": {},
     "output_type": "execute_result"
    }
   ],
   "source": [
    "(20-30)*(54-3)"
   ]
  },
  {
   "cell_type": "code",
   "execution_count": 11,
   "id": "a44fbf1d",
   "metadata": {},
   "outputs": [
    {
     "name": "stdout",
     "output_type": "stream",
     "text": [
      "3\n",
      "32\n"
     ]
    }
   ],
   "source": [
    "print(2+1)\n",
    "print(31+1)"
   ]
  },
  {
   "cell_type": "markdown",
   "id": "b8ecdc06",
   "metadata": {},
   "source": [
    "Variable"
   ]
  },
  {
   "cell_type": "code",
   "execution_count": 2,
   "id": "9d0fccd7",
   "metadata": {},
   "outputs": [],
   "source": [
    "my_cats=3"
   ]
  },
  {
   "cell_type": "code",
   "execution_count": 3,
   "id": "187a4df2",
   "metadata": {},
   "outputs": [],
   "source": [
    "my_cats=['andy','perry']"
   ]
  },
  {
   "cell_type": "code",
   "execution_count": 4,
   "id": "dc566071",
   "metadata": {},
   "outputs": [
    {
     "data": {
      "text/plain": [
       "['andy', 'perry']"
      ]
     },
     "execution_count": 4,
     "metadata": {},
     "output_type": "execute_result"
    }
   ],
   "source": [
    "my_cats"
   ]
  },
  {
   "cell_type": "code",
   "execution_count": 6,
   "id": "346988bd",
   "metadata": {},
   "outputs": [],
   "source": [
    "a=6"
   ]
  },
  {
   "cell_type": "code",
   "execution_count": 7,
   "id": "54cc5ea0",
   "metadata": {},
   "outputs": [],
   "source": [
    "a='and'"
   ]
  },
  {
   "cell_type": "code",
   "execution_count": 9,
   "id": "c8626621",
   "metadata": {},
   "outputs": [
    {
     "data": {
      "text/plain": [
       "str"
      ]
     },
     "execution_count": 9,
     "metadata": {},
     "output_type": "execute_result"
    }
   ],
   "source": [
    "type(a)"
   ]
  },
  {
   "cell_type": "code",
   "execution_count": 10,
   "id": "31021e65",
   "metadata": {},
   "outputs": [],
   "source": [
    "a=10"
   ]
  },
  {
   "cell_type": "code",
   "execution_count": 11,
   "id": "1e788bc3",
   "metadata": {},
   "outputs": [
    {
     "data": {
      "text/plain": [
       "10"
      ]
     },
     "execution_count": 11,
     "metadata": {},
     "output_type": "execute_result"
    }
   ],
   "source": [
    "a"
   ]
  },
  {
   "cell_type": "code",
   "execution_count": 12,
   "id": "6f05cce3",
   "metadata": {},
   "outputs": [
    {
     "data": {
      "text/plain": [
       "100"
      ]
     },
     "execution_count": 12,
     "metadata": {},
     "output_type": "execute_result"
    }
   ],
   "source": [
    "a*a"
   ]
  },
  {
   "cell_type": "code",
   "execution_count": 13,
   "id": "c0b6d6ba",
   "metadata": {},
   "outputs": [
    {
     "data": {
      "text/plain": [
       "int"
      ]
     },
     "execution_count": 13,
     "metadata": {},
     "output_type": "execute_result"
    }
   ],
   "source": [
    "type(a)"
   ]
  },
  {
   "cell_type": "code",
   "execution_count": 14,
   "id": "394e12fa",
   "metadata": {},
   "outputs": [
    {
     "name": "stdout",
     "output_type": "stream",
     "text": [
      "30\n",
      "-10\n",
      "10\n",
      "200\n",
      "0\n"
     ]
    }
   ],
   "source": [
    "a=10\n",
    "b=20\n",
    "addition=a+b\n",
    "sub=a-b\n",
    "mul=a*b\n",
    "mod=a%b\n",
    "floor=a//b\n",
    "print(addition)\n",
    "print(sub)\n",
    "print(mod)\n",
    "print(mul)\n",
    "print(floor)"
   ]
  },
  {
   "cell_type": "code",
   "execution_count": 15,
   "id": "a2c811bd",
   "metadata": {},
   "outputs": [
    {
     "name": "stdout",
     "output_type": "stream",
     "text": [
      "40.0\n"
     ]
    }
   ],
   "source": [
    "my_income=200\n",
    "tax_rate=0.2\n",
    "my_final_tax=my_income*tax_rate\n",
    "print(my_final_tax)"
   ]
  },
  {
   "cell_type": "code",
   "execution_count": 16,
   "id": "1473f555",
   "metadata": {},
   "outputs": [
    {
     "name": "stdout",
     "output_type": "stream",
     "text": [
      "40\n"
     ]
    }
   ],
   "source": [
    "intiger_var=40\n",
    "print(intiger_var)"
   ]
  },
  {
   "cell_type": "code",
   "execution_count": null,
   "id": "f637cfca",
   "metadata": {},
   "outputs": [],
   "source": []
  }
 ],
 "metadata": {
  "kernelspec": {
   "display_name": "Python 3 (ipykernel)",
   "language": "python",
   "name": "python3"
  },
  "language_info": {
   "codemirror_mode": {
    "name": "ipython",
    "version": 3
   },
   "file_extension": ".py",
   "mimetype": "text/x-python",
   "name": "python",
   "nbconvert_exporter": "python",
   "pygments_lexer": "ipython3",
   "version": "3.10.9"
  }
 },
 "nbformat": 4,
 "nbformat_minor": 5
}
