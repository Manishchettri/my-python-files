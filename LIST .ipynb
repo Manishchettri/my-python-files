{
 "cells": [
  {
   "cell_type": "code",
   "execution_count": 1,
   "id": "1e8f30f7",
   "metadata": {},
   "outputs": [],
   "source": [
    "#LIST"
   ]
  },
  {
   "cell_type": "code",
   "execution_count": 78,
   "id": "0eeea0f3",
   "metadata": {},
   "outputs": [],
   "source": [
    "my_list=[1,2,3,4,5]"
   ]
  },
  {
   "cell_type": "code",
   "execution_count": 79,
   "id": "3973b638",
   "metadata": {},
   "outputs": [
    {
     "data": {
      "text/plain": [
       "[1, 2, 3, 4, 5]"
      ]
     },
     "execution_count": 79,
     "metadata": {},
     "output_type": "execute_result"
    }
   ],
   "source": [
    "my_list"
   ]
  },
  {
   "cell_type": "code",
   "execution_count": 80,
   "id": "8d0de4ab",
   "metadata": {},
   "outputs": [],
   "source": [
    "mystring=\"hello\""
   ]
  },
  {
   "cell_type": "code",
   "execution_count": 81,
   "id": "554e9fcd",
   "metadata": {},
   "outputs": [
    {
     "data": {
      "text/plain": [
       "'hello'"
      ]
     },
     "execution_count": 81,
     "metadata": {},
     "output_type": "execute_result"
    }
   ],
   "source": [
    "mystring"
   ]
  },
  {
   "cell_type": "code",
   "execution_count": 82,
   "id": "ed13f836",
   "metadata": {},
   "outputs": [
    {
     "data": {
      "text/plain": [
       "['h', 'llo']"
      ]
     },
     "execution_count": 82,
     "metadata": {},
     "output_type": "execute_result"
    }
   ],
   "source": [
    "mystring.split('e')"
   ]
  },
  {
   "cell_type": "code",
   "execution_count": 83,
   "id": "e0c6beac",
   "metadata": {},
   "outputs": [
    {
     "data": {
      "text/plain": [
       "[1, 2, 3, 4, 5]"
      ]
     },
     "execution_count": 83,
     "metadata": {},
     "output_type": "execute_result"
    }
   ],
   "source": [
    "my_list"
   ]
  },
  {
   "cell_type": "code",
   "execution_count": 84,
   "id": "89731b89",
   "metadata": {},
   "outputs": [],
   "source": [
    "my_list=[1,\"string\",2,3.1]"
   ]
  },
  {
   "cell_type": "code",
   "execution_count": 85,
   "id": "2fa2c53e",
   "metadata": {},
   "outputs": [
    {
     "data": {
      "text/plain": [
       "[1, 'string', 2, 3.1]"
      ]
     },
     "execution_count": 85,
     "metadata": {},
     "output_type": "execute_result"
    }
   ],
   "source": [
    "my_list"
   ]
  },
  {
   "cell_type": "code",
   "execution_count": 86,
   "id": "5bf9d1bd",
   "metadata": {},
   "outputs": [
    {
     "data": {
      "text/plain": [
       "4"
      ]
     },
     "execution_count": 86,
     "metadata": {},
     "output_type": "execute_result"
    }
   ],
   "source": [
    "len(my_list)"
   ]
  },
  {
   "cell_type": "code",
   "execution_count": 87,
   "id": "9062dac3",
   "metadata": {},
   "outputs": [
    {
     "data": {
      "text/plain": [
       "'string'"
      ]
     },
     "execution_count": 87,
     "metadata": {},
     "output_type": "execute_result"
    }
   ],
   "source": [
    "my_list[1]#indexing"
   ]
  },
  {
   "cell_type": "code",
   "execution_count": 88,
   "id": "fd39a889",
   "metadata": {},
   "outputs": [
    {
     "data": {
      "text/plain": [
       "['string', 2, 3.1]"
      ]
     },
     "execution_count": 88,
     "metadata": {},
     "output_type": "execute_result"
    }
   ],
   "source": [
    "my_list[1:]"
   ]
  },
  {
   "cell_type": "code",
   "execution_count": 89,
   "id": "51e3a443",
   "metadata": {},
   "outputs": [
    {
     "data": {
      "text/plain": [
       "[1, 'string']"
      ]
     },
     "execution_count": 89,
     "metadata": {},
     "output_type": "execute_result"
    }
   ],
   "source": [
    "my_list[0:2]"
   ]
  },
  {
   "cell_type": "code",
   "execution_count": 90,
   "id": "f3e56ab6",
   "metadata": {},
   "outputs": [],
   "source": [
    "second_list=[4,5,\"six\"]"
   ]
  },
  {
   "cell_type": "code",
   "execution_count": 91,
   "id": "56dffa87",
   "metadata": {},
   "outputs": [
    {
     "data": {
      "text/plain": [
       "[4, 5, 'six']"
      ]
     },
     "execution_count": 91,
     "metadata": {},
     "output_type": "execute_result"
    }
   ],
   "source": [
    "second_list"
   ]
  },
  {
   "cell_type": "code",
   "execution_count": 92,
   "id": "bad13ff5",
   "metadata": {},
   "outputs": [],
   "source": [
    "new_list=my_list+second_list #concatination"
   ]
  },
  {
   "cell_type": "code",
   "execution_count": 93,
   "id": "9bc4e6a3",
   "metadata": {},
   "outputs": [
    {
     "data": {
      "text/plain": [
       "[1, 'string', 2, 3.1, 4, 5, 'six']"
      ]
     },
     "execution_count": 93,
     "metadata": {},
     "output_type": "execute_result"
    }
   ],
   "source": [
    "new_list"
   ]
  },
  {
   "cell_type": "code",
   "execution_count": 94,
   "id": "ec79290b",
   "metadata": {},
   "outputs": [
    {
     "data": {
      "text/plain": [
       "[4, 5, 'six']"
      ]
     },
     "execution_count": 94,
     "metadata": {},
     "output_type": "execute_result"
    }
   ],
   "source": [
    "second_list"
   ]
  },
  {
   "cell_type": "code",
   "execution_count": 95,
   "id": "e6b3be34",
   "metadata": {},
   "outputs": [],
   "source": [
    "second_list[0]=56,\"changed\""
   ]
  },
  {
   "cell_type": "code",
   "execution_count": 96,
   "id": "0698d954",
   "metadata": {},
   "outputs": [
    {
     "data": {
      "text/plain": [
       "[(56, 'changed'), 5, 'six']"
      ]
     },
     "execution_count": 96,
     "metadata": {},
     "output_type": "execute_result"
    }
   ],
   "source": [
    "second_list"
   ]
  },
  {
   "cell_type": "code",
   "execution_count": 97,
   "id": "87d44370",
   "metadata": {},
   "outputs": [],
   "source": [
    "mystring=\"hello\""
   ]
  },
  {
   "cell_type": "code",
   "execution_count": 98,
   "id": "25bbe188",
   "metadata": {},
   "outputs": [
    {
     "data": {
      "text/plain": [
       "'hello'"
      ]
     },
     "execution_count": 98,
     "metadata": {},
     "output_type": "execute_result"
    }
   ],
   "source": [
    "mystring"
   ]
  },
  {
   "cell_type": "code",
   "execution_count": 99,
   "id": "bd14beb6",
   "metadata": {},
   "outputs": [
    {
     "data": {
      "text/plain": [
       "'h'"
      ]
     },
     "execution_count": 99,
     "metadata": {},
     "output_type": "execute_result"
    }
   ],
   "source": [
    "mystring[0]"
   ]
  },
  {
   "cell_type": "code",
   "execution_count": 100,
   "id": "78229769",
   "metadata": {},
   "outputs": [
    {
     "ename": "TypeError",
     "evalue": "'str' object does not support item assignment",
     "output_type": "error",
     "traceback": [
      "\u001b[1;31m---------------------------------------------------------------------------\u001b[0m",
      "\u001b[1;31mTypeError\u001b[0m                                 Traceback (most recent call last)",
      "Cell \u001b[1;32mIn[100], line 1\u001b[0m\n\u001b[1;32m----> 1\u001b[0m mystring[\u001b[38;5;241m0\u001b[39m]\u001b[38;5;241m=\u001b[39m\u001b[38;5;124m\"\u001b[39m\u001b[38;5;124mp\u001b[39m\u001b[38;5;124m\"\u001b[39m\n",
      "\u001b[1;31mTypeError\u001b[0m: 'str' object does not support item assignment"
     ]
    }
   ],
   "source": [
    "mystring[0]=\"p\""
   ]
  },
  {
   "cell_type": "code",
   "execution_count": 101,
   "id": "51d9b92f",
   "metadata": {},
   "outputs": [],
   "source": [
    "new_string=mystring[1:]"
   ]
  },
  {
   "cell_type": "code",
   "execution_count": 102,
   "id": "1c1e5412",
   "metadata": {},
   "outputs": [
    {
     "data": {
      "text/plain": [
       "'ello'"
      ]
     },
     "execution_count": 102,
     "metadata": {},
     "output_type": "execute_result"
    }
   ],
   "source": [
    "new_string"
   ]
  },
  {
   "cell_type": "code",
   "execution_count": 103,
   "id": "f2e5f4d2",
   "metadata": {},
   "outputs": [],
   "source": [
    "new_word=\"u\"+new_string"
   ]
  },
  {
   "cell_type": "code",
   "execution_count": 104,
   "id": "b52b46fd",
   "metadata": {},
   "outputs": [
    {
     "data": {
      "text/plain": [
       "'uello'"
      ]
     },
     "execution_count": 104,
     "metadata": {},
     "output_type": "execute_result"
    }
   ],
   "source": [
    "new_word"
   ]
  },
  {
   "cell_type": "code",
   "execution_count": 105,
   "id": "9df878b5",
   "metadata": {},
   "outputs": [
    {
     "data": {
      "text/plain": [
       "[(56, 'changed'), 5, 'six']"
      ]
     },
     "execution_count": 105,
     "metadata": {},
     "output_type": "execute_result"
    }
   ],
   "source": [
    "second_list"
   ]
  },
  {
   "cell_type": "code",
   "execution_count": 106,
   "id": "ebb1b83a",
   "metadata": {},
   "outputs": [],
   "source": [
    "second_list.append(\"hello\")"
   ]
  },
  {
   "cell_type": "code",
   "execution_count": 107,
   "id": "1de66ca4",
   "metadata": {},
   "outputs": [
    {
     "data": {
      "text/plain": [
       "[(56, 'changed'), 5, 'six', 'hello']"
      ]
     },
     "execution_count": 107,
     "metadata": {},
     "output_type": "execute_result"
    }
   ],
   "source": [
    "second_list"
   ]
  },
  {
   "cell_type": "code",
   "execution_count": 108,
   "id": "54ff5b66",
   "metadata": {},
   "outputs": [
    {
     "data": {
      "text/plain": [
       "'hello'"
      ]
     },
     "execution_count": 108,
     "metadata": {},
     "output_type": "execute_result"
    }
   ],
   "source": [
    "second_list.pop()"
   ]
  },
  {
   "cell_type": "code",
   "execution_count": 109,
   "id": "bc97a07e",
   "metadata": {},
   "outputs": [],
   "source": [
    "new_list=[2,3,4,\"hi\",6]"
   ]
  },
  {
   "cell_type": "code",
   "execution_count": 110,
   "id": "ed9abb5f",
   "metadata": {},
   "outputs": [
    {
     "data": {
      "text/plain": [
       "[2, 3, 4, 'hi', 6]"
      ]
     },
     "execution_count": 110,
     "metadata": {},
     "output_type": "execute_result"
    }
   ],
   "source": [
    "new_list"
   ]
  },
  {
   "cell_type": "code",
   "execution_count": 111,
   "id": "75661067",
   "metadata": {},
   "outputs": [
    {
     "data": {
      "text/plain": [
       "6"
      ]
     },
     "execution_count": 111,
     "metadata": {},
     "output_type": "execute_result"
    }
   ],
   "source": [
    "new_list[-1]"
   ]
  },
  {
   "cell_type": "code",
   "execution_count": 126,
   "id": "c9aaa847",
   "metadata": {},
   "outputs": [],
   "source": [
    "new_list=['a','x','b','c','z','y']\n",
    "num_list=[8,7,1,3,2,9,]"
   ]
  },
  {
   "cell_type": "code",
   "execution_count": 127,
   "id": "bcb8a182",
   "metadata": {},
   "outputs": [
    {
     "data": {
      "text/plain": [
       "['a', 'x', 'b', 'c', 'z', 'y']"
      ]
     },
     "execution_count": 127,
     "metadata": {},
     "output_type": "execute_result"
    }
   ],
   "source": [
    "new_list"
   ]
  },
  {
   "cell_type": "code",
   "execution_count": 128,
   "id": "a1ffdc11",
   "metadata": {},
   "outputs": [],
   "source": [
    "new_list.sort()"
   ]
  },
  {
   "cell_type": "code",
   "execution_count": 129,
   "id": "f5e059fb",
   "metadata": {},
   "outputs": [
    {
     "data": {
      "text/plain": [
       "['a', 'b', 'c', 'x', 'y', 'z']"
      ]
     },
     "execution_count": 129,
     "metadata": {},
     "output_type": "execute_result"
    }
   ],
   "source": [
    "new_list"
   ]
  },
  {
   "cell_type": "code",
   "execution_count": 130,
   "id": "808e3a43",
   "metadata": {},
   "outputs": [],
   "source": [
    "num_list.sort()"
   ]
  },
  {
   "cell_type": "code",
   "execution_count": 131,
   "id": "1054ece0",
   "metadata": {},
   "outputs": [
    {
     "data": {
      "text/plain": [
       "[1, 2, 3, 7, 8, 9]"
      ]
     },
     "execution_count": 131,
     "metadata": {},
     "output_type": "execute_result"
    }
   ],
   "source": [
    "num_list"
   ]
  },
  {
   "cell_type": "code",
   "execution_count": 132,
   "id": "a6c1ae2d",
   "metadata": {},
   "outputs": [],
   "source": [
    "sorted_list=new_list"
   ]
  },
  {
   "cell_type": "code",
   "execution_count": 133,
   "id": "18bcfc24",
   "metadata": {},
   "outputs": [
    {
     "data": {
      "text/plain": [
       "['a', 'b', 'c', 'x', 'y', 'z']"
      ]
     },
     "execution_count": 133,
     "metadata": {},
     "output_type": "execute_result"
    }
   ],
   "source": [
    "sorted_list"
   ]
  },
  {
   "cell_type": "code",
   "execution_count": 134,
   "id": "1eab4533",
   "metadata": {},
   "outputs": [],
   "source": [
    "sorted_list1=num_list"
   ]
  },
  {
   "cell_type": "code",
   "execution_count": 135,
   "id": "5f5d6223",
   "metadata": {},
   "outputs": [
    {
     "data": {
      "text/plain": [
       "[1, 2, 3, 7, 8, 9]"
      ]
     },
     "execution_count": 135,
     "metadata": {},
     "output_type": "execute_result"
    }
   ],
   "source": [
    "sorted_list1"
   ]
  },
  {
   "cell_type": "code",
   "execution_count": 136,
   "id": "eb703438",
   "metadata": {},
   "outputs": [],
   "source": [
    "new_list.reverse()"
   ]
  },
  {
   "cell_type": "code",
   "execution_count": 137,
   "id": "afe8ff78",
   "metadata": {},
   "outputs": [
    {
     "data": {
      "text/plain": [
       "['z', 'y', 'x', 'c', 'b', 'a']"
      ]
     },
     "execution_count": 137,
     "metadata": {},
     "output_type": "execute_result"
    }
   ],
   "source": [
    "new_list"
   ]
  },
  {
   "cell_type": "code",
   "execution_count": 141,
   "id": "04ab95a7",
   "metadata": {},
   "outputs": [],
   "source": [
    "reversed_list=num_list"
   ]
  },
  {
   "cell_type": "code",
   "execution_count": 142,
   "id": "d8c0ff83",
   "metadata": {},
   "outputs": [
    {
     "data": {
      "text/plain": [
       "[1, 2, 3, 7, 8, 9]"
      ]
     },
     "execution_count": 142,
     "metadata": {},
     "output_type": "execute_result"
    }
   ],
   "source": [
    "reversed_list"
   ]
  },
  {
   "cell_type": "code",
   "execution_count": 143,
   "id": "968450b3",
   "metadata": {},
   "outputs": [],
   "source": [
    "num_list.reverse()"
   ]
  },
  {
   "cell_type": "code",
   "execution_count": 144,
   "id": "97aebb1f",
   "metadata": {},
   "outputs": [
    {
     "data": {
      "text/plain": [
       "[9, 8, 7, 3, 2, 1]"
      ]
     },
     "execution_count": 144,
     "metadata": {},
     "output_type": "execute_result"
    }
   ],
   "source": [
    "num_list"
   ]
  },
  {
   "cell_type": "code",
   "execution_count": 145,
   "id": "fa8653b6",
   "metadata": {},
   "outputs": [],
   "source": [
    "my_list=[1,1,[1,2]]"
   ]
  },
  {
   "cell_type": "code",
   "execution_count": 146,
   "id": "4a9ed4ae",
   "metadata": {},
   "outputs": [
    {
     "data": {
      "text/plain": [
       "[1, 1, [1, 2]]"
      ]
     },
     "execution_count": 146,
     "metadata": {},
     "output_type": "execute_result"
    }
   ],
   "source": [
    "my_list"
   ]
  },
  {
   "cell_type": "code",
   "execution_count": 147,
   "id": "ade399b9",
   "metadata": {},
   "outputs": [
    {
     "data": {
      "text/plain": [
       "1"
      ]
     },
     "execution_count": 147,
     "metadata": {},
     "output_type": "execute_result"
    }
   ],
   "source": [
    "my_list[2][0]"
   ]
  },
  {
   "cell_type": "code",
   "execution_count": 148,
   "id": "e3a60e1b",
   "metadata": {},
   "outputs": [
    {
     "data": {
      "text/plain": [
       "2"
      ]
     },
     "execution_count": 148,
     "metadata": {},
     "output_type": "execute_result"
    }
   ],
   "source": [
    "my_list[2][1]"
   ]
  },
  {
   "cell_type": "code",
   "execution_count": 149,
   "id": "2a6f2d89",
   "metadata": {},
   "outputs": [],
   "source": [
    "#dictionari"
   ]
  },
  {
   "cell_type": "code",
   "execution_count": 150,
   "id": "0f2d036d",
   "metadata": {},
   "outputs": [],
   "source": [
    "my_dict={'key1':'value1', 'key2':'value'}"
   ]
  },
  {
   "cell_type": "code",
   "execution_count": 151,
   "id": "6af722e2",
   "metadata": {},
   "outputs": [
    {
     "data": {
      "text/plain": [
       "{'key1': 'value1', 'key2': 'value'}"
      ]
     },
     "execution_count": 151,
     "metadata": {},
     "output_type": "execute_result"
    }
   ],
   "source": [
    "my_dict"
   ]
  },
  {
   "cell_type": "code",
   "execution_count": 152,
   "id": "04fbece4",
   "metadata": {},
   "outputs": [
    {
     "data": {
      "text/plain": [
       "'value1'"
      ]
     },
     "execution_count": 152,
     "metadata": {},
     "output_type": "execute_result"
    }
   ],
   "source": [
    "my_dict['key1']"
   ]
  },
  {
   "cell_type": "code",
   "execution_count": 153,
   "id": "52d0c3e0",
   "metadata": {},
   "outputs": [],
   "source": [
    "price_lookup={'apple':200,'banana':80,'mango':60}"
   ]
  },
  {
   "cell_type": "code",
   "execution_count": 154,
   "id": "0d86b5c3",
   "metadata": {},
   "outputs": [
    {
     "data": {
      "text/plain": [
       "{'apple': 200, 'banana': 80, 'mango': 60}"
      ]
     },
     "execution_count": 154,
     "metadata": {},
     "output_type": "execute_result"
    }
   ],
   "source": [
    "price_lookup"
   ]
  },
  {
   "cell_type": "code",
   "execution_count": 155,
   "id": "b910b9ff",
   "metadata": {},
   "outputs": [
    {
     "data": {
      "text/plain": [
       "200"
      ]
     },
     "execution_count": 155,
     "metadata": {},
     "output_type": "execute_result"
    }
   ],
   "source": [
    "price_lookup['apple']"
   ]
  },
  {
   "cell_type": "code",
   "execution_count": 156,
   "id": "1580e8ac",
   "metadata": {},
   "outputs": [
    {
     "data": {
      "text/plain": [
       "60"
      ]
     },
     "execution_count": 156,
     "metadata": {},
     "output_type": "execute_result"
    }
   ],
   "source": [
    "price_lookup['mango']"
   ]
  },
  {
   "cell_type": "code",
   "execution_count": 157,
   "id": "980235bb",
   "metadata": {},
   "outputs": [],
   "source": [
    "d={'k1':100,'k2':[1,2,3],'k3':{'inside_key:400'}}"
   ]
  },
  {
   "cell_type": "code",
   "execution_count": 158,
   "id": "1e1af204",
   "metadata": {},
   "outputs": [
    {
     "data": {
      "text/plain": [
       "{'k1': 100, 'k2': [1, 2, 3], 'k3': {'inside_key:400'}}"
      ]
     },
     "execution_count": 158,
     "metadata": {},
     "output_type": "execute_result"
    }
   ],
   "source": [
    "d"
   ]
  },
  {
   "cell_type": "code",
   "execution_count": 159,
   "id": "df6d907c",
   "metadata": {},
   "outputs": [
    {
     "data": {
      "text/plain": [
       "100"
      ]
     },
     "execution_count": 159,
     "metadata": {},
     "output_type": "execute_result"
    }
   ],
   "source": [
    "d['k1']"
   ]
  },
  {
   "cell_type": "code",
   "execution_count": 160,
   "id": "53bffd51",
   "metadata": {},
   "outputs": [
    {
     "data": {
      "text/plain": [
       "{'inside_key:400'}"
      ]
     },
     "execution_count": 160,
     "metadata": {},
     "output_type": "execute_result"
    }
   ],
   "source": [
    "d['k3']"
   ]
  },
  {
   "cell_type": "code",
   "execution_count": 161,
   "id": "0d0b209e",
   "metadata": {},
   "outputs": [],
   "source": [
    "d['k3']=400"
   ]
  },
  {
   "cell_type": "code",
   "execution_count": 162,
   "id": "93a089ee",
   "metadata": {},
   "outputs": [
    {
     "data": {
      "text/plain": [
       "400"
      ]
     },
     "execution_count": 162,
     "metadata": {},
     "output_type": "execute_result"
    }
   ],
   "source": [
    "d['k3']"
   ]
  },
  {
   "cell_type": "code",
   "execution_count": 163,
   "id": "71c7f2d2",
   "metadata": {},
   "outputs": [
    {
     "data": {
      "text/plain": [
       "{'k1': 100, 'k2': [1, 2, 3], 'k3': 400}"
      ]
     },
     "execution_count": 163,
     "metadata": {},
     "output_type": "execute_result"
    }
   ],
   "source": [
    "d"
   ]
  },
  {
   "cell_type": "code",
   "execution_count": 166,
   "id": "f7a5c2d1",
   "metadata": {},
   "outputs": [
    {
     "data": {
      "text/plain": [
       "[1, 2, 3]"
      ]
     },
     "execution_count": 166,
     "metadata": {},
     "output_type": "execute_result"
    }
   ],
   "source": [
    "d['k2'][0:]"
   ]
  },
  {
   "cell_type": "code",
   "execution_count": 167,
   "id": "ead6eba9",
   "metadata": {},
   "outputs": [],
   "source": [
    "newdict={'apple': 200,'price_range':[100,200,300],'green_apple':{'price_range':120}}"
   ]
  },
  {
   "cell_type": "code",
   "execution_count": 168,
   "id": "98715ae0",
   "metadata": {},
   "outputs": [
    {
     "data": {
      "text/plain": [
       "{'apple': 200,\n",
       " 'price_range': [100, 200, 300],\n",
       " 'green_apple': {'price_range': 120}}"
      ]
     },
     "execution_count": 168,
     "metadata": {},
     "output_type": "execute_result"
    }
   ],
   "source": [
    "newdict"
   ]
  },
  {
   "cell_type": "code",
   "execution_count": 169,
   "id": "85a1d104",
   "metadata": {},
   "outputs": [
    {
     "data": {
      "text/plain": [
       "200"
      ]
     },
     "execution_count": 169,
     "metadata": {},
     "output_type": "execute_result"
    }
   ],
   "source": [
    "newdict['apple']"
   ]
  },
  {
   "cell_type": "code",
   "execution_count": null,
   "id": "26139498",
   "metadata": {},
   "outputs": [],
   "source": []
  }
 ],
 "metadata": {
  "kernelspec": {
   "display_name": "Python 3 (ipykernel)",
   "language": "python",
   "name": "python3"
  },
  "language_info": {
   "codemirror_mode": {
    "name": "ipython",
    "version": 3
   },
   "file_extension": ".py",
   "mimetype": "text/x-python",
   "name": "python",
   "nbconvert_exporter": "python",
   "pygments_lexer": "ipython3",
   "version": "3.10.9"
  }
 },
 "nbformat": 4,
 "nbformat_minor": 5
}
